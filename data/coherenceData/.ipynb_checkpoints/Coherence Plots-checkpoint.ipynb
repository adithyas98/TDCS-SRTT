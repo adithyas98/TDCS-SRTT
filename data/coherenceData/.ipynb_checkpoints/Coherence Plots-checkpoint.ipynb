{
 "cells": [
  {
   "cell_type": "markdown",
   "metadata": {},
   "source": [
    "# Import the and clean data"
   ]
  },
  {
   "cell_type": "code",
   "execution_count": 47,
   "metadata": {},
   "outputs": [],
   "source": [
    "import pandas as pd\n",
    "import numpy as np\n",
    "import matplotlib.pyplot as plt\n",
    "%matplotlib inline"
   ]
  },
  {
   "cell_type": "code",
   "execution_count": 48,
   "metadata": {},
   "outputs": [
    {
     "data": {
      "text/html": [
       "<div>\n",
       "<style scoped>\n",
       "    .dataframe tbody tr th:only-of-type {\n",
       "        vertical-align: middle;\n",
       "    }\n",
       "\n",
       "    .dataframe tbody tr th {\n",
       "        vertical-align: top;\n",
       "    }\n",
       "\n",
       "    .dataframe thead th {\n",
       "        text-align: right;\n",
       "    }\n",
       "</style>\n",
       "<table border=\"1\" class=\"dataframe\">\n",
       "  <thead>\n",
       "    <tr style=\"text-align: right;\">\n",
       "      <th></th>\n",
       "      <th>Group</th>\n",
       "      <th>Subject</th>\n",
       "      <th>Coherence</th>\n",
       "      <th>Connection</th>\n",
       "      <th>Condition</th>\n",
       "    </tr>\n",
       "  </thead>\n",
       "  <tbody>\n",
       "    <tr>\n",
       "      <th>0</th>\n",
       "      <td>1</td>\n",
       "      <td>AVB</td>\n",
       "      <td>0.623330</td>\n",
       "      <td>1</td>\n",
       "      <td>1</td>\n",
       "    </tr>\n",
       "    <tr>\n",
       "      <th>1</th>\n",
       "      <td>1</td>\n",
       "      <td>CRB</td>\n",
       "      <td>0.492470</td>\n",
       "      <td>1</td>\n",
       "      <td>1</td>\n",
       "    </tr>\n",
       "    <tr>\n",
       "      <th>2</th>\n",
       "      <td>1</td>\n",
       "      <td>DSL</td>\n",
       "      <td>0.528885</td>\n",
       "      <td>1</td>\n",
       "      <td>1</td>\n",
       "    </tr>\n",
       "    <tr>\n",
       "      <th>3</th>\n",
       "      <td>1</td>\n",
       "      <td>EGW</td>\n",
       "      <td>0.481590</td>\n",
       "      <td>1</td>\n",
       "      <td>1</td>\n",
       "    </tr>\n",
       "    <tr>\n",
       "      <th>4</th>\n",
       "      <td>1</td>\n",
       "      <td>JAF</td>\n",
       "      <td>0.567595</td>\n",
       "      <td>1</td>\n",
       "      <td>1</td>\n",
       "    </tr>\n",
       "  </tbody>\n",
       "</table>\n",
       "</div>"
      ],
      "text/plain": [
       "   Group Subject  Coherence  Connection  Condition\n",
       "0      1     AVB   0.623330           1          1\n",
       "1      1     CRB   0.492470           1          1\n",
       "2      1     DSL   0.528885           1          1\n",
       "3      1     EGW   0.481590           1          1\n",
       "4      1     JAF   0.567595           1          1"
      ]
     },
     "execution_count": 48,
     "metadata": {},
     "output_type": "execute_result"
    }
   ],
   "source": [
    "coherences = pd.read_excel(\"Coherence results_controls and patients.xlsx\")\n",
    "\n",
    "coherences = coherences.drop('filter_$',axis=1)\n",
    "\n",
    "coherences.head()"
   ]
  },
  {
   "cell_type": "markdown",
   "metadata": {},
   "source": [
    "## Change column values to real categories"
   ]
  },
  {
   "cell_type": "code",
   "execution_count": 49,
   "metadata": {},
   "outputs": [
    {
     "name": "stdout",
     "output_type": "stream",
     "text": [
      "Connection Unique Values: [1 2 3]\n",
      "Condition Unique Values: [1 2 3 4 5]\n",
      "Group Unique Values: [1 2]\n",
      "\n",
      "\n",
      "New Unique Values\n",
      "Connection Unique Values: ['SMA-Motor' 'SMA-Visual' 'Motor-Visual']\n",
      "Condition Unique Values: ['Sham' 'Anode' 'Cathode' 'Visual' 'Sham Baseline']\n",
      "Group Unique Values: ['Control' 'Patient']\n"
     ]
    }
   ],
   "source": [
    "from functools import partial\n",
    "print(\"Connection Unique Values:\",coherences['Connection'].unique())\n",
    "print(\"Condition Unique Values:\",coherences['Condition'].unique())\n",
    "print(\"Group Unique Values:\",coherences['Group'].unique())\n",
    "\n",
    "#Enter the names to replace the numbers with \n",
    "connections = ['SMA-Motor','SMA-Visual','Motor-Visual']\n",
    "conditions = ['Sham','Anode','Cathode','Visual','Sham Baseline']\n",
    "groups = ['Control','Patient']\n",
    "\n",
    "def changeValues(x,values=connections,unique=coherences['Connection'].unique()):\n",
    "    return values[np.where(unique==x)[0][0]]\n",
    "\n",
    "\n",
    "#Apply it on the df\n",
    "#Change connections\n",
    "change = partial(changeValues,values=connections,unique=coherences['Connection'].unique())\n",
    "coherences['Connection'] = coherences['Connection'].apply(change)\n",
    "#change conditions\n",
    "change = partial(changeValues,values=conditions,unique=coherences['Condition'].unique())\n",
    "coherences['Condition'] = coherences['Condition'].apply(change)\n",
    "#change groups\n",
    "change = partial(changeValues,values=groups,unique=coherences['Group'].unique())\n",
    "coherences['Group'] = coherences['Group'].apply(change)\n",
    "\n",
    "print(\"\\n\")\n",
    "print(\"New Unique Values\")\n",
    "print(\"Connection Unique Values:\",coherences['Connection'].unique())\n",
    "print(\"Condition Unique Values:\",coherences['Condition'].unique())\n",
    "print(\"Group Unique Values:\",coherences['Group'].unique())"
   ]
  },
  {
   "cell_type": "markdown",
   "metadata": {},
   "source": [
    "## Create a hierarchial dataset"
   ]
  },
  {
   "cell_type": "code",
   "execution_count": 50,
   "metadata": {},
   "outputs": [],
   "source": [
    "coherences = coherences.set_index(['Group','Condition','Connection'])\n",
    "#coherences.head(10)"
   ]
  },
  {
   "cell_type": "markdown",
   "metadata": {},
   "source": [
    "# Find Means and stdev"
   ]
  },
  {
   "cell_type": "code",
   "execution_count": 51,
   "metadata": {},
   "outputs": [
    {
     "data": {
      "text/html": [
       "<div>\n",
       "<style scoped>\n",
       "    .dataframe tbody tr th:only-of-type {\n",
       "        vertical-align: middle;\n",
       "    }\n",
       "\n",
       "    .dataframe tbody tr th {\n",
       "        vertical-align: top;\n",
       "    }\n",
       "\n",
       "    .dataframe thead th {\n",
       "        text-align: right;\n",
       "    }\n",
       "</style>\n",
       "<table border=\"1\" class=\"dataframe\">\n",
       "  <thead>\n",
       "    <tr style=\"text-align: right;\">\n",
       "      <th></th>\n",
       "      <th></th>\n",
       "      <th></th>\n",
       "      <th>Subject</th>\n",
       "      <th>Coherence</th>\n",
       "      <th>mean</th>\n",
       "      <th>sem</th>\n",
       "    </tr>\n",
       "    <tr>\n",
       "      <th>Group</th>\n",
       "      <th>Condition</th>\n",
       "      <th>Connection</th>\n",
       "      <th></th>\n",
       "      <th></th>\n",
       "      <th></th>\n",
       "      <th></th>\n",
       "    </tr>\n",
       "  </thead>\n",
       "  <tbody>\n",
       "    <tr>\n",
       "      <th rowspan=\"5\" valign=\"top\">Control</th>\n",
       "      <th rowspan=\"5\" valign=\"top\">Sham</th>\n",
       "      <th>SMA-Motor</th>\n",
       "      <td>AVB</td>\n",
       "      <td>0.623330</td>\n",
       "      <td>0.511903</td>\n",
       "      <td>0.022865</td>\n",
       "    </tr>\n",
       "    <tr>\n",
       "      <th>SMA-Motor</th>\n",
       "      <td>CRB</td>\n",
       "      <td>0.492470</td>\n",
       "      <td>0.511903</td>\n",
       "      <td>0.022865</td>\n",
       "    </tr>\n",
       "    <tr>\n",
       "      <th>SMA-Motor</th>\n",
       "      <td>DSL</td>\n",
       "      <td>0.528885</td>\n",
       "      <td>0.511903</td>\n",
       "      <td>0.022865</td>\n",
       "    </tr>\n",
       "    <tr>\n",
       "      <th>SMA-Motor</th>\n",
       "      <td>EGW</td>\n",
       "      <td>0.481590</td>\n",
       "      <td>0.511903</td>\n",
       "      <td>0.022865</td>\n",
       "    </tr>\n",
       "    <tr>\n",
       "      <th>SMA-Motor</th>\n",
       "      <td>JAF</td>\n",
       "      <td>0.567595</td>\n",
       "      <td>0.511903</td>\n",
       "      <td>0.022865</td>\n",
       "    </tr>\n",
       "    <tr>\n",
       "      <th>...</th>\n",
       "      <th>...</th>\n",
       "      <th>...</th>\n",
       "      <td>...</td>\n",
       "      <td>...</td>\n",
       "      <td>...</td>\n",
       "      <td>...</td>\n",
       "    </tr>\n",
       "    <tr>\n",
       "      <th rowspan=\"5\" valign=\"top\">Patient</th>\n",
       "      <th rowspan=\"5\" valign=\"top\">Sham Baseline</th>\n",
       "      <th>Motor-Visual</th>\n",
       "      <td>EBP</td>\n",
       "      <td>0.234970</td>\n",
       "      <td>0.163184</td>\n",
       "      <td>0.020057</td>\n",
       "    </tr>\n",
       "    <tr>\n",
       "      <th>Motor-Visual</th>\n",
       "      <td>GSP</td>\n",
       "      <td>0.041000</td>\n",
       "      <td>0.163184</td>\n",
       "      <td>0.020057</td>\n",
       "    </tr>\n",
       "    <tr>\n",
       "      <th>Motor-Visual</th>\n",
       "      <td>JAM</td>\n",
       "      <td>0.289820</td>\n",
       "      <td>0.163184</td>\n",
       "      <td>0.020057</td>\n",
       "    </tr>\n",
       "    <tr>\n",
       "      <th>Motor-Visual</th>\n",
       "      <td>JCM</td>\n",
       "      <td>0.127860</td>\n",
       "      <td>0.163184</td>\n",
       "      <td>0.020057</td>\n",
       "    </tr>\n",
       "    <tr>\n",
       "      <th>Motor-Visual</th>\n",
       "      <td>JOS</td>\n",
       "      <td>0.154710</td>\n",
       "      <td>0.163184</td>\n",
       "      <td>0.020057</td>\n",
       "    </tr>\n",
       "  </tbody>\n",
       "</table>\n",
       "<p>596 rows × 4 columns</p>\n",
       "</div>"
      ],
      "text/plain": [
       "                                   Subject  Coherence      mean       sem\n",
       "Group   Condition     Connection                                         \n",
       "Control Sham          SMA-Motor        AVB   0.623330  0.511903  0.022865\n",
       "                      SMA-Motor        CRB   0.492470  0.511903  0.022865\n",
       "                      SMA-Motor        DSL   0.528885  0.511903  0.022865\n",
       "                      SMA-Motor        EGW   0.481590  0.511903  0.022865\n",
       "                      SMA-Motor        JAF   0.567595  0.511903  0.022865\n",
       "...                                    ...        ...       ...       ...\n",
       "Patient Sham Baseline Motor-Visual     EBP   0.234970  0.163184  0.020057\n",
       "                      Motor-Visual     GSP   0.041000  0.163184  0.020057\n",
       "                      Motor-Visual     JAM   0.289820  0.163184  0.020057\n",
       "                      Motor-Visual     JCM   0.127860  0.163184  0.020057\n",
       "                      Motor-Visual     JOS   0.154710  0.163184  0.020057\n",
       "\n",
       "[596 rows x 4 columns]"
      ]
     },
     "execution_count": 51,
     "metadata": {},
     "output_type": "execute_result"
    }
   ],
   "source": [
    "grouped = coherences.groupby(level=['Group','Condition','Connection'])\n",
    "coherences['mean'] = grouped['Coherence'].transform('mean')\n",
    "coherences['sem'] = grouped['Coherence'].transform('sem')\n",
    "\n",
    "coherences.head(-10)\n",
    "#summary = grouped.describe()"
   ]
  },
  {
   "cell_type": "code",
   "execution_count": 56,
   "metadata": {},
   "outputs": [
    {
     "name": "stdout",
     "output_type": "stream",
     "text": [
      "0.511903125\n",
      "0.022864888848566304\n"
     ]
    },
    {
     "name": "stderr",
     "output_type": "stream",
     "text": [
      "<ipython-input-56-7c3f74227f5f>:1: PerformanceWarning: indexing past lexsort depth may impact performance.\n",
      "  print(coherences.loc[('Control','Sham','SMA-Motor')]['mean'][0])\n",
      "<ipython-input-56-7c3f74227f5f>:2: PerformanceWarning: indexing past lexsort depth may impact performance.\n",
      "  print(coherences.loc[('Control','Sham','SMA-Motor')]['sem'][0])\n"
     ]
    }
   ],
   "source": [
    "#How to index the columns\n",
    "print(coherences.loc[('Control','Sham','SMA-Motor')]['mean'][0])\n",
    "print(coherences.loc[('Control','Sham','SMA-Motor')]['sem'][0])"
   ]
  },
  {
   "cell_type": "markdown",
   "metadata": {},
   "source": [
    "# Plot the bar graphs"
   ]
  },
  {
   "cell_type": "code",
   "execution_count": 120,
   "metadata": {},
   "outputs": [
    {
     "name": "stderr",
     "output_type": "stream",
     "text": [
      "<ipython-input-120-2ac09110dc92>:14: PerformanceWarning: indexing past lexsort depth may impact performance.\n",
      "  SE.append(coherences.loc[(g,cond,conn)]['sem'][0])\n"
     ]
    },
    {
     "data": {
      "image/png": "[encoded data removed]",
      "text/plain": [
       "<Figure size 432x288 with 1 Axes>"
      ]
     },
     "metadata": {
      "needs_background": "light"
     },
     "output_type": "display_data"
    },
    {
     "name": "stderr",
     "output_type": "stream",
     "text": [
      "<ipython-input-120-2ac09110dc92>:14: PerformanceWarning: indexing past lexsort depth may impact performance.\n",
      "  SE.append(coherences.loc[(g,cond,conn)]['sem'][0])\n"
     ]
    },
    {
     "data": {
      "image/png": "[encoded data removed]",
      "text/plain": [
       "<Figure size 432x288 with 1 Axes>"
      ]
     },
     "metadata": {
      "needs_background": "light"
     },
     "output_type": "display_data"
    },
    {
     "name": "stderr",
     "output_type": "stream",
     "text": [
      "<ipython-input-120-2ac09110dc92>:14: PerformanceWarning: indexing past lexsort depth may impact performance.\n",
      "  SE.append(coherences.loc[(g,cond,conn)]['sem'][0])\n"
     ]
    },
    {
     "data": {
      "image/png": "[encoded data removed]",
      "text/plain": [
       "<Figure size 432x288 with 1 Axes>"
      ]
     },
     "metadata": {
      "needs_background": "light"
     },
     "output_type": "display_data"
    }
   ],
   "source": [
    "import seaborn as sns\n",
    "\n",
    "#Create the lists we want to iterate over\n",
    "connections = ['SMA-Motor','SMA-Visual','Motor-Visual']\n",
    "conditions = ['Sham','Cathode','Visual','Anode']\n",
    "groups = ['Control','Patient']\n",
    "data = coherences.reset_index()#reset the indecies\n",
    "for conn in connections:\n",
    "    df = data[(data['Connection'] == conn) & (data['Condition'] != 'Sham Baseline')]\n",
    "    #Now we can make the bar plot\n",
    "    SE = []\n",
    "    for cond in conditions:\n",
    "        for g in groups:\n",
    "            SE.append(coherences.loc[(g,cond,conn)]['sem'][0])\n",
    "    plt.clf()\n",
    "    #colors = ['grey','black','lightskyblue','blue','limegreen','green','tomato','red']\n",
    "    colors = ['black','blue','green','red']\n",
    "    ax = sns.barplot(x='Condition', y='Coherence', hue='Group', data=df,ci=None,order=conditions,palette=colors)\n",
    "    #Add error bars\n",
    "\n",
    "    x_coords = [p.get_x() + 0.5*p.get_width() for p in ax.patches]\n",
    "    y_coords = [p.get_height() for p in ax.patches]\n",
    "    plt.errorbar(x=x_coords, y=y_coords, yerr=SE, fmt=\"none\", c= \"k\")\n",
    "\n",
    "    plt.legend(loc=1)\n",
    "    plt.title(\"Coherence Measures for {}\".format(conn))\n",
    "    plt.show()\n",
    "    \n",
    "    \n",
    "    ### TODO: Create barplots with matplotlib so you can have more control"
   ]
  }
 ],
 "metadata": {
  "kernelspec": {
   "display_name": "Python 3",
   "language": "python",
   "name": "python3"
  },
  "language_info": {
   "codemirror_mode": {
    "name": "ipython",
    "version": 3
   },
   "file_extension": ".py",
   "mimetype": "text/x-python",
   "name": "python",
   "nbconvert_exporter": "python",
   "pygments_lexer": "ipython3",
   "version": "3.8.5"
  }
 },
 "nbformat": 4,
 "nbformat_minor": 4
}
