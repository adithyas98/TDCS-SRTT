{
 "cells": [
  {
   "cell_type": "code",
   "execution_count": 10,
   "metadata": {},
   "outputs": [],
   "source": [
    "import pandas as pd\n",
    "import os\n"
   ]
  },
  {
   "cell_type": "code",
   "execution_count": 11,
   "metadata": {},
   "outputs": [],
   "source": [
    "#Import the data\n",
    "rtDataFolder = \"/Users/adish/Documents/NYPSI Research/TDCS-SRTT/data\"\n",
    "rtDataFile = os.listdir(rtDataFolder)[3]\n",
    "\n",
    "\n",
    "rtData = pd.read_csv(os.path.join(rtDataFolder,rtDataFile))\n",
    "rtData.columns.values[0] = \"PCode\"\n",
    "\n",
    "mainDataFolder = \"/Users/adish/Documents/NYPSI Research/TDCS-SRTT/data/Combined Data\"\n",
    "mainDataFile = os.listdir(mainDataFolder)\n",
    "for f in mainDataFile:\n",
    "    if f.endswith('.xlsx'):\n",
    "        mainDataFile = f\n",
    "\n",
    "\n",
    "\n",
    "mainData = pd.read_excel(os.path.join(mainDataFolder,mainDataFile))\n"
   ]
  },
  {
   "cell_type": "code",
   "execution_count": 12,
   "metadata": {},
   "outputs": [],
   "source": [
    "#Merge the data sets\n",
    "\n",
    "combined = pd.merge(mainData,rtData,how=\"inner\",on='PCode')\n",
    "combined.head()\n",
    "\n",
    "combined.to_csv(os.path.join(mainDataFolder,\"MergedDatawithRTAvgs.csv\"))"
   ]
  },
  {
   "cell_type": "code",
   "execution_count": 13,
   "metadata": {},
   "outputs": [],
   "source": [
    "# Merge Window Avg Data\n",
    "windowAvgFolder = \"/Users/adish/Documents/NYPSI Research/TDCS-SRTT/data/EEG Data/TSE paper2\"\n",
    "winDataFile = os.listdir(windowAvgFolder)\n",
    "for f in winDataFile:\n",
    "    if f.endswith('.csv'):\n",
    "        winDataFile = f\n",
    "winDataFile = pd.read_csv(os.path.join(windowAvgFolder,winDataFile))\n",
    "winDataFile.columns.values[0] = \"PCode\"\n",
    "combined = pd.merge(combined,winDataFile,how=\"inner\",on=\"PCode\")\n",
    "combined.to_csv(os.path.join(mainDataFolder,\"MergedDatawithRTAvgs_WindowAvgs.csv\"))"
   ]
  }
 ],
 "metadata": {
  "kernelspec": {
   "display_name": "Python 3",
   "language": "python",
   "name": "python3"
  },
  "language_info": {
   "codemirror_mode": {
    "name": "ipython",
    "version": 3
   },
   "file_extension": ".py",
   "mimetype": "text/x-python",
   "name": "python",
   "nbconvert_exporter": "python",
   "pygments_lexer": "ipython3",
   "version": "3.8.5"
  }
 },
 "nbformat": 4,
 "nbformat_minor": 4
}
