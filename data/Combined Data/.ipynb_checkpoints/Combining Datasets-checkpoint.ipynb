{
 "cells": [
  {
   "cell_type": "code",
   "execution_count": 4,
   "metadata": {},
   "outputs": [],
   "source": [
    "import pandas as pd\n",
    "import os\n"
   ]
  },
  {
   "cell_type": "code",
   "execution_count": null,
   "metadata": {},
   "outputs": [],
   "source": []
  },
  {
   "cell_type": "code",
   "execution_count": 11,
   "metadata": {},
   "outputs": [],
   "source": [
    "#Import the data\n",
    "rtDataFolder = \"/Users/adish/Documents/NYPSI Research/TDCS-SRTT/data\"\n",
    "rtDataFile = os.listdir(rtDataFolder)[3]\n",
    "\n",
    "\n",
    "rtData = pd.read_csv(os.path.join(rtDataFolder,rtDataFile))\n",
    "rtData.columns.values[0] = \"PCode\"\n",
    "\n",
    "mainDataFolder = \"/Users/adish/Documents/NYPSI Research/TDCS-SRTT/data/Combined Data\"\n",
    "mainDataFile = os.listdir(mainDataFolder)\n",
    "for f in mainDataFile:\n",
    "    if f.endswith('.xlsx'):\n",
    "        mainDataFile = f\n",
    "\n",
    "\n",
    "\n",
    "mainData = pd.read_excel(os.path.join(mainDataFolder,mainDataFile))\n"
   ]
  },
  {
   "cell_type": "code",
   "execution_count": 12,
   "metadata": {},
   "outputs": [],
   "source": [
    "#Merge the data sets\n",
    "\n",
    "combined = pd.merge(mainData,rtData,how=\"inner\",on='PCode')\n",
    "combined.head()\n",
    "\n",
    "combined.to_csv(os.path.join(mainDataFolder,\"MergedDatawithRTAvgs.csv\"))"
   ]
  }
 ],
 "metadata": {
  "kernelspec": {
   "display_name": "Python 3",
   "language": "python",
   "name": "python3"
  },
  "language_info": {
   "codemirror_mode": {
    "name": "ipython",
    "version": 3
   },
   "file_extension": ".py",
   "mimetype": "text/x-python",
   "name": "python",
   "nbconvert_exporter": "python",
   "pygments_lexer": "ipython3",
   "version": "3.8.5"
  }
 },
 "nbformat": 4,
 "nbformat_minor": 4
}
