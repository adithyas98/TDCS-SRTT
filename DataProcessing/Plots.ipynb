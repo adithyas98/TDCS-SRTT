{
 "cells": [
  {
   "cell_type": "code",
   "execution_count": 4,
   "metadata": {},
   "outputs": [],
   "source": [
    "import pandas as pd\n",
    "import matplotlib.pyplot as plt\n",
    "%matplotlib inline\n",
    "import os\n",
    "from scipy.optimize import curve_fit\n",
    "import numpy as np"
   ]
  },
  {
   "cell_type": "markdown",
   "metadata": {},
   "source": [
    "# Non-Normalized Group Plots"
   ]
  },
  {
   "cell_type": "code",
   "execution_count": 5,
   "metadata": {},
   "outputs": [],
   "source": [
    "def plotGroupAverages(func,directory,column='GroupAvgLogRT'):\n",
    "    #list out the conditions\n",
    "    plt.figure(figsize=(30,30))\n",
    "    conditions = ['Sham','Anod','Cath','Vertex']\n",
    "    os.chdir(directory)\n",
    "    #find min and max\n",
    "    maximum = 0\n",
    "    minimum = 1e100\n",
    "    length = 0\n",
    "    for f in os.listdir():\n",
    "        if(f.endswith('.csv')):\n",
    "            df = pd.read_csv(f)\n",
    "            if maximum < df[column].max():\n",
    "                maximum = df[column].max()\n",
    "            if minimum > df[column].min():\n",
    "                minimum = df[column].min()\n",
    "            if length < len(df[column].values):\n",
    "                length = len(df[column].values)\n",
    "    print(\"min,max,len\")\n",
    "    print(minimum,maximum,length)\n",
    "    for i,c in enumerate(conditions):\n",
    "        for f in os.listdir():\n",
    "            if (c in f):\n",
    "                #then we want to make the plot\n",
    "                df = pd.read_csv(f)\n",
    "                x = np.arange(1,len(df[column].values)+1,1)\n",
    "                y = df[column].to_numpy()\n",
    "                #Fit the curve\n",
    "                popt, pcov = curve_fit(func, x[:24], y[:24])\n",
    "\n",
    "                print(popt)\n",
    "                #create a trend line\n",
    "                trendline = func(x,*popt)\n",
    "\n",
    "                plt.subplot(2,2,i+1) \n",
    "                \n",
    "                \n",
    "                print(\"min,max,len\")\n",
    "                print(minimum,maximum,length)\n",
    "                \n",
    "               \n",
    "                if \"control\".lower() in f.lower():\n",
    "                    plt.scatter(x,y,label=\"Control\",color='blue')\n",
    "                    plt.plot(x,trendline,'b--',label=\"Control Regression\")\n",
    "                else:\n",
    "                    plt.scatter(x,y,label=\"Patient\",color='red')\n",
    "                    plt.plot(x,trendline,'r--',label=\"Patient Regression\")\n",
    "                \n",
    "                plt.yticks(np.arange(minimum,maximum + (maximum-minimum)/length,(maximum-minimum)/length))\n",
    "                plt.xticks(np.arange(1,len(df[column].values),3)) \n",
    "                plt.ylim(minimum,maximum)\n",
    "\n",
    "                plt.grid(True)\n",
    "                plt.title(c)\n",
    "                plt.xlabel(\"Run\")\n",
    "                plt.ylabel(column) \n",
    "                plt.legend()\n",
    "    plt.savefig(\"{}_plot.png\".format(column))\n",
    "    "
   ]
  },
  {
   "cell_type": "markdown",
   "metadata": {},
   "source": [
    "## Non-Normalized Plots"
   ]
  },
  {
   "cell_type": "code",
   "execution_count": 6,
   "metadata": {},
   "outputs": [
    {
     "ename": "FileNotFoundError",
     "evalue": "[Errno 2] No such file or directory: '/Users/adish/Documents/NYPSI Research/TDCS-SRTT/data/WrangledData/SUBJECT_RUN/subjectRunAvgs/groupAverageLogRTs'",
     "output_type": "error",
     "traceback": [
      "\u001b[0;31m---------------------------------------------------------------------------\u001b[0m",
      "\u001b[0;31mFileNotFoundError\u001b[0m                         Traceback (most recent call last)",
      "\u001b[0;32m<ipython-input-6-b7f061fad540>\u001b[0m in \u001b[0;36m<module>\u001b[0;34m\u001b[0m\n\u001b[1;32m      6\u001b[0m \u001b[0mdirectory\u001b[0m \u001b[0;34m=\u001b[0m \u001b[0;34m\"/Users/adish/Documents/NYPSI Research/TDCS-SRTT/data/WrangledData/SUBJECT_RUN/subjectRunAvgs/groupAverageLogRTs\"\u001b[0m\u001b[0;34m\u001b[0m\u001b[0;34m\u001b[0m\u001b[0m\n\u001b[1;32m      7\u001b[0m \u001b[0;34m\u001b[0m\u001b[0m\n\u001b[0;32m----> 8\u001b[0;31m \u001b[0mplotGroupAverages\u001b[0m\u001b[0;34m(\u001b[0m\u001b[0mfunc\u001b[0m\u001b[0;34m,\u001b[0m\u001b[0mdirectory\u001b[0m\u001b[0;34m)\u001b[0m\u001b[0;34m\u001b[0m\u001b[0;34m\u001b[0m\u001b[0m\n\u001b[0m",
      "\u001b[0;32m<ipython-input-5-933472cb3d05>\u001b[0m in \u001b[0;36mplotGroupAverages\u001b[0;34m(func, directory, column)\u001b[0m\n\u001b[1;32m      3\u001b[0m     \u001b[0mplt\u001b[0m\u001b[0;34m.\u001b[0m\u001b[0mfigure\u001b[0m\u001b[0;34m(\u001b[0m\u001b[0mfigsize\u001b[0m\u001b[0;34m=\u001b[0m\u001b[0;34m(\u001b[0m\u001b[0;36m30\u001b[0m\u001b[0;34m,\u001b[0m\u001b[0;36m30\u001b[0m\u001b[0;34m)\u001b[0m\u001b[0;34m)\u001b[0m\u001b[0;34m\u001b[0m\u001b[0;34m\u001b[0m\u001b[0m\n\u001b[1;32m      4\u001b[0m     \u001b[0mconditions\u001b[0m \u001b[0;34m=\u001b[0m \u001b[0;34m[\u001b[0m\u001b[0;34m'Sham'\u001b[0m\u001b[0;34m,\u001b[0m\u001b[0;34m'Anod'\u001b[0m\u001b[0;34m,\u001b[0m\u001b[0;34m'Cath'\u001b[0m\u001b[0;34m,\u001b[0m\u001b[0;34m'Vertex'\u001b[0m\u001b[0;34m]\u001b[0m\u001b[0;34m\u001b[0m\u001b[0;34m\u001b[0m\u001b[0m\n\u001b[0;32m----> 5\u001b[0;31m     \u001b[0mos\u001b[0m\u001b[0;34m.\u001b[0m\u001b[0mchdir\u001b[0m\u001b[0;34m(\u001b[0m\u001b[0mdirectory\u001b[0m\u001b[0;34m)\u001b[0m\u001b[0;34m\u001b[0m\u001b[0;34m\u001b[0m\u001b[0m\n\u001b[0m\u001b[1;32m      6\u001b[0m     \u001b[0;31m#find min and max\u001b[0m\u001b[0;34m\u001b[0m\u001b[0;34m\u001b[0m\u001b[0;34m\u001b[0m\u001b[0m\n\u001b[1;32m      7\u001b[0m     \u001b[0mmaximum\u001b[0m \u001b[0;34m=\u001b[0m \u001b[0;36m0\u001b[0m\u001b[0;34m\u001b[0m\u001b[0;34m\u001b[0m\u001b[0m\n",
      "\u001b[0;31mFileNotFoundError\u001b[0m: [Errno 2] No such file or directory: '/Users/adish/Documents/NYPSI Research/TDCS-SRTT/data/WrangledData/SUBJECT_RUN/subjectRunAvgs/groupAverageLogRTs'"
     ]
    },
    {
     "data": {
      "text/plain": [
       "<Figure size 2160x2160 with 0 Axes>"
      ]
     },
     "metadata": {},
     "output_type": "display_data"
    }
   ],
   "source": [
    "#Define a fucntion that we want to fit the data to\n",
    "def func(x,y0,K,plateau):\n",
    "    \n",
    "    #plateau = 0\n",
    "    return (y0 - plateau) * np.exp(-K * x) + plateau\n",
    "directory = \"/Users/adish/Documents/NYPSI Research/TDCS-SRTT/data/WrangledData/SUBJECT_RUN/subjectRunAvgs/groupAverageLogRTs\"\n",
    "\n",
    "plotGroupAverages(func,directory)"
   ]
  },
  {
   "cell_type": "markdown",
   "metadata": {},
   "source": [
    "## Normalized Plots\n",
    "\n"
   ]
  },
  {
   "cell_type": "code",
   "execution_count": null,
   "metadata": {},
   "outputs": [],
   "source": [
    "directory = \"/Users/adish/Documents/NYPSI Research/TDCS-SRTT/data/NormalizedData/NormalizedWrangledData/SUBJECT_RUN/subjectRunAvgs/groupAverageLogRTs\"\n",
    "def normFunc(x,K,plateau):\n",
    "    y0 = 0\n",
    "    #plateau = 0\n",
    "    return (y0 - plateau) * np.exp(-K * x) + plateau\n",
    "plotGroupAverages(normFunc,directory)"
   ]
  },
  {
   "cell_type": "markdown",
   "metadata": {},
   "source": [
    "## Percent Fast Group Average Plots on Normalized Data"
   ]
  },
  {
   "cell_type": "code",
   "execution_count": null,
   "metadata": {},
   "outputs": [],
   "source": [
    "directory = \"/Users/adish/Documents/NYPSI Research/TDCS-SRTT/data/NormalizedData/NormalizedWrangledData/SUBJECT_RUN/subjectRunAvgs/groupAverageLogRTs/PercentFastGroupAverages\"\n",
    "def percentFastFunc(x,plateau,k):\n",
    "    return plateau * np.log(k*x)\n",
    "plotGroupAverages(percentFastFunc,directory,column='GroupAvgPercentFast')"
   ]
  }
 ],
 "metadata": {
  "kernelspec": {
   "display_name": "Python 3",
   "language": "python",
   "name": "python3"
  },
  "language_info": {
   "codemirror_mode": {
    "name": "ipython",
    "version": 3
   },
   "file_extension": ".py",
   "mimetype": "text/x-python",
   "name": "python",
   "nbconvert_exporter": "python",
   "pygments_lexer": "ipython3",
   "version": "3.8.5"
  }
 },
 "nbformat": 4,
 "nbformat_minor": 4
}
